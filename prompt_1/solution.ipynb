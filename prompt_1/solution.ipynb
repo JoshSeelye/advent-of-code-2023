{
 "cells": [
  {
   "cell_type": "code",
   "execution_count": 1,
   "metadata": {},
   "outputs": [
    {
     "name": "stdout",
     "output_type": "stream",
     "text": [
      "54239\n"
     ]
    }
   ],
   "source": [
    "#Solution 1\n",
    "def calculate_line_amount(line: str):\n",
    "    first = None\n",
    "    for char in line:\n",
    "        if char.isnumeric():\n",
    "            if first is None:\n",
    "                first = char\n",
    "            last = char\n",
    "    try:\n",
    "        return int(first + last)\n",
    "    except:\n",
    "        return 0\n",
    "\n",
    "input_file = 'input.txt'\n",
    "total = 0\n",
    "with open(input_file) as file:\n",
    "    while line := file.readline():\n",
    "        total += calculate_line_amount(line)\n",
    "print(total)"
   ]
  },
  {
   "cell_type": "code",
   "execution_count": 3,
   "metadata": {},
   "outputs": [
    {
     "name": "stdout",
     "output_type": "stream",
     "text": [
      "55343\n"
     ]
    }
   ],
   "source": [
    "#Solution 2\n",
    "word2num = {\n",
    "    '1'    : '1',\n",
    "    '2'    : '2',\n",
    "    '3'    : '3',\n",
    "    '4'    : '4',\n",
    "    '5'    : '5',\n",
    "    '6'    : '6',\n",
    "    '7'    : '7',\n",
    "    '8'    : '8',\n",
    "    '9'    : '9',\n",
    "    'one'  : '1', \n",
    "    'two'  : '2', \n",
    "    'three': '3',\n",
    "    'four' : '4',\n",
    "    'five' : '5',\n",
    "    'six'  : '6',\n",
    "    'seven': '7',\n",
    "    'eight': '8',\n",
    "    'nine' : '9'}\n",
    "\n",
    "def find_num(line: str, reverse_keys: bool):\n",
    "    first = [len(line), None]\n",
    "    for num_word in word2num.keys():\n",
    "        if reverse_keys:\n",
    "            pos = line.find(num_word[::-1])\n",
    "        else:\n",
    "            pos = line.find(num_word)\n",
    "        if pos >= 0:\n",
    "            if pos < first[0]:\n",
    "                first = [pos, word2num[num_word]]\n",
    "    return first\n",
    "\n",
    "def calculate_line_amount(line: str):\n",
    "    first = find_num(line, False)\n",
    "    last  = find_num(line[::-1], True)\n",
    "    return int(first[1] + last[1])\n",
    "\n",
    "input_file = 'input.txt'\n",
    "total = 0\n",
    "with open(input_file) as file:\n",
    "    while line := file.readline():\n",
    "        total += calculate_line_amount(line)\n",
    "        \n",
    "print(total)"
   ]
  }
 ],
 "metadata": {
  "kernelspec": {
   "display_name": "Python 3",
   "language": "python",
   "name": "python3"
  },
  "language_info": {
   "codemirror_mode": {
    "name": "ipython",
    "version": 3
   },
   "file_extension": ".py",
   "mimetype": "text/x-python",
   "name": "python",
   "nbconvert_exporter": "python",
   "pygments_lexer": "ipython3",
   "version": "3.11.4"
  }
 },
 "nbformat": 4,
 "nbformat_minor": 2
}
