{
 "cells": [
  {
   "cell_type": "code",
   "execution_count": 9,
   "metadata": {},
   "outputs": [
    {
     "name": "stdout",
     "output_type": "stream",
     "text": [
      "2317\n"
     ]
    }
   ],
   "source": [
    "#Solution 1\n",
    "max_dict = {\n",
    "    'red'   : 12,\n",
    "    'green' : 13,\n",
    "    'blue'  : 14\n",
    "}\n",
    "\n",
    "def get_label_and_num(input: str) -> list:\n",
    "    split: list[str] = input.split(' ')\n",
    "    for v in split:\n",
    "        if v.isdigit():\n",
    "            num = int(v)\n",
    "        else:\n",
    "            label = v\n",
    "    ret = [label, num]\n",
    "    return ret\n",
    "    \n",
    "def is_hand_possible(game: str) -> bool:\n",
    "    tracking_dict = {\n",
    "        'red'   : 0,\n",
    "        'green' : 0,\n",
    "        'blue'  : 0\n",
    "    }\n",
    "    game = game.replace('\\n', '')\n",
    "    split = game.split(',')\n",
    "    for v in split:\n",
    "        label_num = get_label_and_num(v)\n",
    "        tracking_dict[label_num[0]] += label_num[1]\n",
    "    for key in max_dict.keys():\n",
    "        if tracking_dict[key] > max_dict[key]:\n",
    "            return False\n",
    "    return True\n",
    "\n",
    "def is_game_possible(game: str) -> int:\n",
    "    split = game.split(':')\n",
    "    game_num = get_label_and_num(split[0])\n",
    "    hands = split[1].split(';')\n",
    "    for hand in hands:\n",
    "        if not is_hand_possible(hand):\n",
    "            return 0\n",
    "    return game_num[1]\n",
    "    \n",
    "\n",
    "input_file = 'input.txt'\n",
    "total = 0\n",
    "with open(input_file) as file:\n",
    "    while game := file.readline():\n",
    "        total += is_game_possible(game)\n",
    "print(total)"
   ]
  },
  {
   "cell_type": "code",
   "execution_count": 10,
   "metadata": {},
   "outputs": [
    {
     "name": "stdout",
     "output_type": "stream",
     "text": [
      "74804\n"
     ]
    }
   ],
   "source": [
    "#Solution 2\n",
    "from functools import reduce\n",
    "def get_label_and_num(input: str) -> list:\n",
    "    split: list[str] = input.split(' ')\n",
    "    for v in split:\n",
    "        if v.isdigit():\n",
    "            num = int(v)\n",
    "        else:\n",
    "            label = v\n",
    "    ret = [label, num]\n",
    "    return ret\n",
    "    \n",
    "def get_hand(game: str) -> dict:\n",
    "    tracking_dict = {\n",
    "        'red'   : 0,\n",
    "        'green' : 0,\n",
    "        'blue'  : 0\n",
    "    }\n",
    "    game = game.replace('\\n', '')\n",
    "    split = game.split(',')\n",
    "    for v in split:\n",
    "        label_num = get_label_and_num(v)\n",
    "        tracking_dict[label_num[0]] += label_num[1]\n",
    "    return tracking_dict\n",
    "\n",
    "def game_powerset(game: str) -> int:\n",
    "    tracking_dict = {\n",
    "        'red'   : 0,\n",
    "        'green' : 0,\n",
    "        'blue'  : 0\n",
    "    }\n",
    "    split = game.split(':')\n",
    "    hands = split[1].split(';')\n",
    "    for hand in hands:\n",
    "        hand_dict : dict = get_hand(hand)\n",
    "        for key in hand_dict.keys():\n",
    "            if hand_dict[key] > tracking_dict[key]:\n",
    "                tracking_dict[key] = hand_dict[key]\n",
    "    return reduce(lambda x, y: x*y, tracking_dict.values())\n",
    "    \n",
    "\n",
    "input_file = 'input.txt'\n",
    "total = 0\n",
    "with open(input_file) as file:\n",
    "    while game := file.readline():\n",
    "        total += game_powerset(game)\n",
    "print(total)"
   ]
  }
 ],
 "metadata": {
  "kernelspec": {
   "display_name": "Python 3",
   "language": "python",
   "name": "python3"
  },
  "language_info": {
   "codemirror_mode": {
    "name": "ipython",
    "version": 3
   },
   "file_extension": ".py",
   "mimetype": "text/x-python",
   "name": "python",
   "nbconvert_exporter": "python",
   "pygments_lexer": "ipython3",
   "version": "3.11.4"
  }
 },
 "nbformat": 4,
 "nbformat_minor": 2
}
