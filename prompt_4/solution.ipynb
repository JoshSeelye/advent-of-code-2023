{
 "cells": [
  {
   "cell_type": "code",
   "execution_count": 11,
   "metadata": {},
   "outputs": [
    {
     "name": "stdout",
     "output_type": "stream",
     "text": [
      "23750\n"
     ]
    }
   ],
   "source": [
    "#Solution 1\n",
    "def get_game_amount(game: str):\n",
    "    game = game.split(': ')[1]\n",
    "    split= game.split(' | ')\n",
    "    winning_nums = split[0].split()\n",
    "    my_nums      = split[1].split()\n",
    "    points = 0\n",
    "    for num in winning_nums:\n",
    "        if num in my_nums:\n",
    "            points <<= 1\n",
    "            if points == 0:\n",
    "                points +=1\n",
    "    return points\n",
    "\n",
    "input_file = 'input.txt'\n",
    "total = 0\n",
    "with open(input_file) as file:\n",
    "    for i, game in enumerate(file):\n",
    "        total += get_game_amount(game)\n",
    "print(total)"
   ]
  },
  {
   "cell_type": "code",
   "execution_count": 8,
   "metadata": {},
   "outputs": [
    {
     "data": {
      "text/plain": [
       "13261850"
      ]
     },
     "execution_count": 8,
     "metadata": {},
     "output_type": "execute_result"
    }
   ],
   "source": [
    "#Solution 2\n",
    "def get_game_amount(game: str):\n",
    "    game = game.split(': ')[1]\n",
    "    split= game.split(' | ')\n",
    "    winning_nums = split[0].split()\n",
    "    my_nums      = split[1].split()\n",
    "    points = 0\n",
    "    for num in winning_nums:\n",
    "        if num in my_nums:\n",
    "            points += 1\n",
    "    return points\n",
    "\n",
    "def process_all_games(index, file, times) -> list:\n",
    "    ret = []\n",
    "    points = get_game_amount(file[index])\n",
    "    while times > 0:\n",
    "        point_cpy = points\n",
    "        times -= 1\n",
    "        indx_copy = index\n",
    "        while point_cpy > 0:\n",
    "            indx_copy += 1\n",
    "            point_cpy -= 1\n",
    "            ret.append(indx_copy)\n",
    "    return ret\n",
    "            \n",
    "\n",
    "input_file = 'input.txt'\n",
    "counts = {}\n",
    "for i in range(214):\n",
    "    counts[i] = 1\n",
    "with open(input_file) as file:\n",
    "    file = file.readlines()\n",
    "    for i, game in enumerate(file):\n",
    "        try:\n",
    "            ret = process_all_games(i, file, counts[i])\n",
    "        except:\n",
    "            continue\n",
    "        for val in ret:\n",
    "            counts[val] += 1\n",
    "sum(counts.values())"
   ]
  }
 ],
 "metadata": {
  "kernelspec": {
   "display_name": "Python 3",
   "language": "python",
   "name": "python3"
  },
  "language_info": {
   "codemirror_mode": {
    "name": "ipython",
    "version": 3
   },
   "file_extension": ".py",
   "mimetype": "text/x-python",
   "name": "python",
   "nbconvert_exporter": "python",
   "pygments_lexer": "ipython3",
   "version": "3.11.4"
  }
 },
 "nbformat": 4,
 "nbformat_minor": 2
}
