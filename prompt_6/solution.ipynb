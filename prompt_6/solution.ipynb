{
 "cells": [
  {
   "cell_type": "code",
   "execution_count": 8,
   "metadata": {},
   "outputs": [
    {
     "data": {
      "text/plain": [
       "140220"
      ]
     },
     "execution_count": 8,
     "metadata": {},
     "output_type": "execute_result"
    }
   ],
   "source": [
    "#Solution 1\n",
    "from functools import reduce\n",
    "def ways_to_beat(time, record):\n",
    "    ways = 0\n",
    "    for i in range(0,time+1):\n",
    "        held_t  = i\n",
    "        moved_t = time - i\n",
    "        distance = held_t * moved_t\n",
    "        if distance > record:\n",
    "            ways += 1\n",
    "    return ways\n",
    " \n",
    "input_file = 'input.txt'\n",
    "total = []\n",
    "with open(input_file) as file:\n",
    "    times = file.readline()\n",
    "    times = times.split(': ')[1]\n",
    "    times = times.split()\n",
    "    records = file.readline()\n",
    "    records = records.split(': ')[1]\n",
    "    records = records.split()\n",
    "\n",
    "for i, item in enumerate(times):\n",
    "    total.append(ways_to_beat(time=int(times[i]), record=int(records[i])))\n",
    "reduce(lambda x, y: x*y, total)\n",
    "    "
   ]
  },
  {
   "cell_type": "code",
   "execution_count": 22,
   "metadata": {},
   "outputs": [
    {
     "data": {
      "text/plain": [
       "39570185"
      ]
     },
     "execution_count": 22,
     "metadata": {},
     "output_type": "execute_result"
    }
   ],
   "source": [
    "# Solution 2\n",
    "from functools import reduce\n",
    "def ways_to_beat(time, record):\n",
    "    ways = 0\n",
    "    for i in range(0,time+1):\n",
    "        held_t  = i\n",
    "        moved_t = time - i\n",
    "        distance = held_t * moved_t\n",
    "        if distance > record:\n",
    "            ways += 1\n",
    "    return ways\n",
    " \n",
    "input_file = 'input.txt'\n",
    "total = []\n",
    "with open(input_file) as file:\n",
    "    time = file.readline()\n",
    "    time = time.split(': ')[1]\n",
    "    time = time.split()\n",
    "    time = int(''.join(time))\n",
    "    record = file.readline()\n",
    "    record = record.split(': ')[1]\n",
    "    record = record.split()\n",
    "    record = int(''.join(record))\n",
    "\n",
    "ways_to_beat(time, record)"
   ]
  }
 ],
 "metadata": {
  "kernelspec": {
   "display_name": "Python 3",
   "language": "python",
   "name": "python3"
  },
  "language_info": {
   "codemirror_mode": {
    "name": "ipython",
    "version": 3
   },
   "file_extension": ".py",
   "mimetype": "text/x-python",
   "name": "python",
   "nbconvert_exporter": "python",
   "pygments_lexer": "ipython3",
   "version": "3.11.4"
  }
 },
 "nbformat": 4,
 "nbformat_minor": 2
}
