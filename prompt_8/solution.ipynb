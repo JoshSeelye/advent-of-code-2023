{
 "cells": [
  {
   "cell_type": "code",
   "execution_count": 50,
   "metadata": {},
   "outputs": [
    {
     "data": {
      "text/plain": [
       "15989"
      ]
     },
     "execution_count": 50,
     "metadata": {},
     "output_type": "execute_result"
    }
   ],
   "source": [
    "from dataclasses import dataclass\n",
    "from enum import IntEnum\n",
    "#Solution 1\n",
    "        \n",
    "input_file = 'input.txt'\n",
    "moves = ''\n",
    "path = {}\n",
    "with open(input_file) as file:\n",
    "    moves += file.readline()\n",
    "    moves = moves[:-1]\n",
    "    file.readline()\n",
    "    while line := file.readline():\n",
    "        parse = line.split(' = ')\n",
    "        parse2 = parse[1].replace('(', '')\n",
    "        parse2 = parse2.replace(')', '')\n",
    "        parse2 = parse2.replace('\\n', '')\n",
    "        parse2 = parse2.split(', ')\n",
    "        path[parse[0]] = parse2\n",
    "\n",
    "def find_zzz():\n",
    "    count = 0\n",
    "    pos = 'AAA'\n",
    "    while True:\n",
    "        for move in moves:\n",
    "            if move != 'L' and move != 'R':\n",
    "                raise Exception\n",
    "            if move == 'L':\n",
    "                pos = path[pos][0]\n",
    "            else:\n",
    "                pos = path[pos][1]\n",
    "            count += 1\n",
    "            if pos == 'ZZZ':\n",
    "                return count\n",
    "\n",
    "find_zzz()"
   ]
  },
  {
   "cell_type": "code",
   "execution_count": 68,
   "metadata": {},
   "outputs": [
    {
     "data": {
      "text/plain": [
       "13830919117339"
      ]
     },
     "execution_count": 68,
     "metadata": {},
     "output_type": "execute_result"
    }
   ],
   "source": [
    "#Solution 2\n",
    "from dataclasses import dataclass\n",
    "from enum import IntEnum\n",
    "from functools import reduce \n",
    "import math\n",
    "        \n",
    "input_file = 'input.txt'\n",
    "moves = ''\n",
    "path : dict[str] = {}\n",
    "with open(input_file) as file:\n",
    "    moves += file.readline()\n",
    "    moves = moves[:-1]\n",
    "    file.readline()\n",
    "    while line := file.readline():\n",
    "        parse = line.split(' = ')\n",
    "        parse2 = parse[1].replace('(', '')\n",
    "        parse2 = parse2.replace(')', '')\n",
    "        parse2 = parse2.replace('\\n', '')\n",
    "        parse2 = parse2.split(', ')\n",
    "        path[parse[0]] = parse2\n",
    "\n",
    "def find_keys_xxa():\n",
    "    keys = []\n",
    "    for key in path.keys():\n",
    "        if key[-1] == 'A':\n",
    "            keys.append(key)\n",
    "    return keys\n",
    " \n",
    "def find_xxz():\n",
    "    count = 0\n",
    "    pos_list = find_keys_xxa()\n",
    "    ret_l = [0]*len(pos_list)\n",
    "    while True:\n",
    "        for move in moves:\n",
    "            for i, item in enumerate(pos_list):\n",
    "                if move == 'L':\n",
    "                    pos_list[i] = path[item][0]\n",
    "                else:\n",
    "                    pos_list[i] = path[item][1]\n",
    "            count += 1\n",
    "            for i, item in enumerate(pos_list):\n",
    "                if item[-1] == 'Z':\n",
    "                    ret_l[i] = count\n",
    "            if not 0 in ret_l:\n",
    "                return ret_l\n",
    "\n",
    "v = find_xxz()\n",
    "reduce(lambda x,y:(x*y)//math.gcd(x,y),v)"
   ]
  }
 ],
 "metadata": {
  "kernelspec": {
   "display_name": "Python 3",
   "language": "python",
   "name": "python3"
  },
  "language_info": {
   "codemirror_mode": {
    "name": "ipython",
    "version": 3
   },
   "file_extension": ".py",
   "mimetype": "text/x-python",
   "name": "python",
   "nbconvert_exporter": "python",
   "pygments_lexer": "ipython3",
   "version": "3.11.4"
  }
 },
 "nbformat": 4,
 "nbformat_minor": 2
}
