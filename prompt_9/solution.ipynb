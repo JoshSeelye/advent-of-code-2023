{
 "cells": [
  {
   "cell_type": "code",
   "execution_count": 58,
   "metadata": {},
   "outputs": [
    {
     "data": {
      "text/plain": [
       "2075724761"
      ]
     },
     "execution_count": 58,
     "metadata": {},
     "output_type": "execute_result"
    }
   ],
   "source": [
    "#Solution 1\n",
    "def find_pattern(numbers):\n",
    "    differences = []\n",
    "    for i in range(0, len(numbers)-1):\n",
    "        differences.append(numbers[i+1]-numbers[i])\n",
    "    if all(v == 0 for v in differences):\n",
    "        return 0\n",
    "    result = differences[-1] + find_pattern(differences)\n",
    "    return result\n",
    "input_file = 'input.txt'\n",
    "total = 0\n",
    "with open(input_file) as file:\n",
    "    for line in file:\n",
    "        line = line.split()\n",
    "        line = [int(v) for v in line]\n",
    "        ret = line[-1] + find_pattern(line)\n",
    "        total += ret\n",
    "total"
   ]
  },
  {
   "cell_type": "code",
   "execution_count": 59,
   "metadata": {},
   "outputs": [
    {
     "data": {
      "text/plain": [
       "1072"
      ]
     },
     "execution_count": 59,
     "metadata": {},
     "output_type": "execute_result"
    }
   ],
   "source": [
    "#Solution 2\n",
    "def find_pattern(numbers):\n",
    "    differences = []\n",
    "    for i in range(0, len(numbers)-1):\n",
    "        differences.append(numbers[i+1]-numbers[i])\n",
    "    if all(v == 0 for v in differences):\n",
    "        return 0\n",
    "    result = differences[-1] + find_pattern(differences)\n",
    "    return result\n",
    "input_file = 'input.txt'\n",
    "total = 0\n",
    "with open(input_file) as file:\n",
    "    for line in file:\n",
    "        line = line.split()\n",
    "        line = [int(v) for v in line]\n",
    "        line = line[::-1]\n",
    "        ret = line[-1] + find_pattern(line)\n",
    "        total += ret\n",
    "total"
   ]
  }
 ],
 "metadata": {
  "kernelspec": {
   "display_name": "Python 3",
   "language": "python",
   "name": "python3"
  },
  "language_info": {
   "codemirror_mode": {
    "name": "ipython",
    "version": 3
   },
   "file_extension": ".py",
   "mimetype": "text/x-python",
   "name": "python",
   "nbconvert_exporter": "python",
   "pygments_lexer": "ipython3",
   "version": "3.11.4"
  }
 },
 "nbformat": 4,
 "nbformat_minor": 2
}
